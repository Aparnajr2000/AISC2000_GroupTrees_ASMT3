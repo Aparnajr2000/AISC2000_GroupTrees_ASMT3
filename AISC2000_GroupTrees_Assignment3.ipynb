{
 "cells": [
  {
   "cell_type": "markdown",
   "metadata": {
    "id": "UYoSBW7swzNz"
   },
   "source": [
    "<h1 align=\"center\">AISC2000 - Group Trees - Assignment 3 Task Distribution and Status</h1>\n",
    "\n",
    "| Individual Responsible | Task | Status | Results |\n",
    "|:---|:---|:---|:---|\n",
    "| **SUBHASH PAVAN CHAKRAVARTHY SOMAROUTHU** | Data Preprocessing and Feature Engineering | Class Separability Checked? Train and Test Handled Correctly? | Featureset with best separability? Steps taken before and after train test split? |\n",
    "|  | Feature Importance Analysis (Random Forests) | Implemented? Compared with LIME/SHAP? | Key findings from comparison |\n",
    "|  | Check feature importance using Random Forests | Implemented? | Key findings |\n",
    "| **KANIKA** | Data Visualization for Feature Engineering | Visualizations created before model training? | Insights from visualizations |\n",
    "|  | Next Steps Analysis | List out 2-3 possible next steps for each model |  |\n",
    "|  | Summarize understanding of outputs from feature importance and tuning | Summary completed? | Key insights |\n",
    "|  | Final Report Compilation | Compile all sections, ensure HTML export of Jupyter notebook |  |\n",
    "| **GOKUL KRISHNA POURNAMI GOPI** | SVM Model (Count-Vectors with Unigram) | Config of model trained? Train Time? | Ensure >5000 data points in test set |\n",
    "|  | SVM Model (TF-IDF with Unigram+Bigram) | Config of model trained? Train Time? | Ensure >5000 data points in test set |\n",
    "|  | Model Evaluation (All Models) | Confusion Matrix Built? AUC plotted? Accuracy computed? | F1 Score for Positive/Negative, AUC, Accuracy |\n",
    "|  | Run 3 rounds of empirical tuning on SVM models | Tuning completed? | Performance improvements |\n",
    "| **APARNA JAYAKUMAR RESMI** | Random Forest Model (Parking Identification) | Config of the model trained? Train Time? | Ensure >5000 data points in test set |\n",
    "|  | Random Forest Model (Parking Validation) | Config of the model trained? Train Time? | Ensure >5000 data points in test set |\n",
    "|  | Run 3 rounds of empirical tuning on Random Forest models | Tuning completed? | Performance improvements |\n",
    "| **CLIFFORD ADDISON** | XGBoost Model (Parking Identification) | Config of model trained? Train Time? | Ensure >5000 data points in test set |\n",
    "|  | XGBoost Model (Parking Validation) | Config of model trained? Train Time? | Ensure >5000 data points in test set |\n",
    "|  | Run 3 rounds of empirical tuning on XGBoost models | Tuning completed? | Performance improvements |\n",
    "| **OBIANUJU NONYEREM ANUMA** | 1 Hidden Layer ANN (Parking Identification) | Config of model trained? Train Time? | Ensure >5000 data points in test set |\n",
    "|  | 1 Hidden Layer ANN (Parking Validation) | Config of model trained? Train Time? | Ensure >5000 data points in test set |\n",
    "|  | Run 3 rounds of empirical tuning on ANN models | Tuning completed? | Performance improvements |\n",
    "| **ABDULLAH IFTEQAR MOHAMMED** | Multi-Hidden Layer ANN (Parking Identification) | Config of model trained? Train Time? Use dropout, regularization, early stopping, and weight initialization. |\n",
    "|  | Multi-Hidden Layer ANN (Parking Validation) | Config of model trained? Train Time? Use dropout, regularization, early stopping, and weight initialization. |\n",
    "|  | Run 3 rounds of empirical tuning on Multi-Hidden Layer ANN models | Tuning completed? | Performance improvements |\n",
    "| **MUKUL GARG** | Naive Bayes Model (One-Hot Vectors for Unigram+Bigram) | Config of model trained? Train Time? Ensure >5000 data points in test set. |\n",
    "|  | Interpretability Analysis (All Models) | Interpretability Implemented? Local or Global? 2 interesting findings per model. |\n",
    "|  | Run 3 rounds of empirical tuning on Naive Bayes model | Tuning completed? | Performance improvements |\n",
    "|  | Cross Validation (All Models) | Type of Cross Validation performed? Findings of Cross Validation? |  |\n",
    "| **AMRUTH RAJ MANCHIKANTI** | SVM Model using word2vec (CBOW or Skipgram)  | Config of model trained? Vector size (64-300)? Train Time? Use CBOW or Skipgram. |\n",
    "|  | SVM Model using other word embedding (GloVe, Fasttext, or ELMo)  | Config of model trained? Embedding type chosen?| Train Time?| Ensure >5000 data points in test set. |\n",
    "|  | Run 3 rounds of empirical tuning on word embedding SVM models | Tuning completed? | Performance improvements |\n",
    "| **SANGEETH KUMARASINGHE** | LIME Analysis for All Models | LIME implemented for each model? | Key local interpretability findings |\n",
    "|  | SHAP Analysis for All Models | SHAP values calculated for each model? | Global and local interpretability insights |\n",
    "|  | Compare LIME and SHAP results | Comparison completed? | Key differences and similarities between LIME and SHAP interpretations |\n",
    "\n",
    "## Individual Responsibilities for All Team Members\n",
    "- Contribute to empirical tuning (3 rounds for your assigned models) and derive insights from each iteration.\n",
    "- Review and validate results for your assigned models.\n",
    "- Explain tuning approaches used in each iteration for your models.\n",
    "- Call out what else could be done to tune your models and how it would have helped (with numbers) at the top/bottom of your section in the notebook.\n",
    "- Ensure >5000 data points in the test set for your models' Confusion Matrix, AUC, etc.\n",
    "- Submit your part of the Python notebook to be run sequentially end to end and exported as an HTML file"
   ]
  },
  {
   "cell_type": "code",
   "execution_count": 8,
   "metadata": {
    "id": "gJMBAeHECG6I"
   },
   "outputs": [
    {
     "name": "stdout",
     "output_type": "stream",
     "text": [
      "Defaulting to user installation because normal site-packages is not writeable\n",
      "Requirement already satisfied: pandas in c:\\programdata\\anaconda3\\lib\\site-packages (1.4.4)\n",
      "Requirement already satisfied: pytz>=2020.1 in c:\\programdata\\anaconda3\\lib\\site-packages (from pandas) (2022.1)\n",
      "Requirement already satisfied: numpy>=1.18.5 in c:\\users\\mukul\\appdata\\roaming\\python\\python39\\site-packages (from pandas) (2.0.2)\n",
      "Requirement already satisfied: python-dateutil>=2.8.1 in c:\\programdata\\anaconda3\\lib\\site-packages (from pandas) (2.8.2)\n",
      "Requirement already satisfied: six>=1.5 in c:\\programdata\\anaconda3\\lib\\site-packages (from python-dateutil>=2.8.1->pandas) (1.16.0)\n",
      "Note: you may need to restart the kernel to use updated packages.\n"
     ]
    }
   ],
   "source": [
    "#pip install lime"
   ]
  },
  {
   "cell_type": "code",
   "execution_count": 16,
   "metadata": {},
   "outputs": [
    {
     "ename": "SyntaxError",
     "evalue": "invalid syntax (1864075308.py, line 1)",
     "output_type": "error",
     "traceback": [
      "\u001b[1;36m  File \u001b[1;32m\"C:\\Users\\mukul\\AppData\\Local\\Temp\\ipykernel_11272\\1864075308.py\"\u001b[1;36m, line \u001b[1;32m1\u001b[0m\n\u001b[1;33m    pip uninstall pandas\u001b[0m\n\u001b[1;37m        ^\u001b[0m\n\u001b[1;31mSyntaxError\u001b[0m\u001b[1;31m:\u001b[0m invalid syntax\n"
     ]
    }
   ],
   "source": [
    "pip uninstall pandas numpy \n",
    "pip install pandas numpy"
   ]
  },
  {
   "cell_type": "code",
   "execution_count": 9,
   "metadata": {
    "id": "sxlDYgOuWXRh"
   },
   "outputs": [],
   "source": [
    "# Loading data from your drive\n",
    "#from google.colab import drive\n",
    "#drive.mount(\"/content/drive\", force_remount=True)"
   ]
  },
  {
   "cell_type": "code",
   "execution_count": 18,
   "metadata": {
    "colab": {
     "base_uri": "https://localhost:8080/"
    },
    "id": "qPVofeT7d3Y8",
    "outputId": "2f472fd3-8829-4ec7-f1d4-3666c9f6815c"
   },
   "outputs": [
    {
     "ename": "ImportError",
     "evalue": "cannot import name 'AxisInt' from 'pandas._typing' (C:\\ProgramData\\Anaconda3\\lib\\site-packages\\pandas\\_typing.py)",
     "output_type": "error",
     "traceback": [
      "\u001b[1;31m---------------------------------------------------------------------------\u001b[0m",
      "\u001b[1;31mImportError\u001b[0m                               Traceback (most recent call last)",
      "\u001b[1;32m~\\AppData\\Local\\Temp\\ipykernel_11272\\3681351636.py\u001b[0m in \u001b[0;36m<module>\u001b[1;34m\u001b[0m\n\u001b[0;32m      1\u001b[0m \u001b[1;31m# Importing the necessary libraries\u001b[0m\u001b[1;33m\u001b[0m\u001b[1;33m\u001b[0m\u001b[0m\n\u001b[0;32m      2\u001b[0m \u001b[1;32mimport\u001b[0m \u001b[0mjson\u001b[0m\u001b[1;33m\u001b[0m\u001b[1;33m\u001b[0m\u001b[0m\n\u001b[1;32m----> 3\u001b[1;33m \u001b[1;32mimport\u001b[0m \u001b[0mpandas\u001b[0m \u001b[1;32mas\u001b[0m \u001b[0mpd\u001b[0m\u001b[1;33m\u001b[0m\u001b[1;33m\u001b[0m\u001b[0m\n\u001b[0m\u001b[0;32m      4\u001b[0m \u001b[1;32mimport\u001b[0m \u001b[0mnumpy\u001b[0m \u001b[1;32mas\u001b[0m \u001b[0mnp\u001b[0m\u001b[1;33m\u001b[0m\u001b[1;33m\u001b[0m\u001b[0m\n\u001b[0;32m      5\u001b[0m \u001b[1;32mimport\u001b[0m \u001b[0mmatplotlib\u001b[0m\u001b[1;33m.\u001b[0m\u001b[0mpyplot\u001b[0m \u001b[1;32mas\u001b[0m \u001b[0mplt\u001b[0m\u001b[1;33m\u001b[0m\u001b[1;33m\u001b[0m\u001b[0m\n",
      "\u001b[1;32m~\\AppData\\Roaming\\Python\\Python39\\site-packages\\pandas\\__init__.py\u001b[0m in \u001b[0;36m<module>\u001b[1;34m\u001b[0m\n\u001b[0;32m     78\u001b[0m \u001b[1;32mimport\u001b[0m \u001b[0mpandas\u001b[0m\u001b[1;33m.\u001b[0m\u001b[0mcore\u001b[0m\u001b[1;33m.\u001b[0m\u001b[0mconfig_init\u001b[0m  \u001b[1;31m# pyright: ignore[reportUnusedImport] # noqa: F401\u001b[0m\u001b[1;33m\u001b[0m\u001b[1;33m\u001b[0m\u001b[0m\n\u001b[0;32m     79\u001b[0m \u001b[1;33m\u001b[0m\u001b[0m\n\u001b[1;32m---> 80\u001b[1;33m from pandas.core.api import (\n\u001b[0m\u001b[0;32m     81\u001b[0m     \u001b[1;31m# dtype\u001b[0m\u001b[1;33m\u001b[0m\u001b[1;33m\u001b[0m\u001b[0m\n\u001b[0;32m     82\u001b[0m     \u001b[0mArrowDtype\u001b[0m\u001b[1;33m,\u001b[0m\u001b[1;33m\u001b[0m\u001b[1;33m\u001b[0m\u001b[0m\n",
      "\u001b[1;32m~\\AppData\\Roaming\\Python\\Python39\\site-packages\\pandas\\core\\api.py\u001b[0m in \u001b[0;36m<module>\u001b[1;34m\u001b[0m\n\u001b[0;32m     21\u001b[0m )\n\u001b[0;32m     22\u001b[0m \u001b[1;33m\u001b[0m\u001b[0m\n\u001b[1;32m---> 23\u001b[1;33m from pandas.core.algorithms import (\n\u001b[0m\u001b[0;32m     24\u001b[0m     \u001b[0mfactorize\u001b[0m\u001b[1;33m,\u001b[0m\u001b[1;33m\u001b[0m\u001b[1;33m\u001b[0m\u001b[0m\n\u001b[0;32m     25\u001b[0m     \u001b[0munique\u001b[0m\u001b[1;33m,\u001b[0m\u001b[1;33m\u001b[0m\u001b[1;33m\u001b[0m\u001b[0m\n",
      "\u001b[1;32m~\\AppData\\Roaming\\Python\\Python39\\site-packages\\pandas\\core\\algorithms.py\u001b[0m in \u001b[0;36m<module>\u001b[1;34m\u001b[0m\n\u001b[0;32m     23\u001b[0m     \u001b[0mlib\u001b[0m\u001b[1;33m,\u001b[0m\u001b[1;33m\u001b[0m\u001b[1;33m\u001b[0m\u001b[0m\n\u001b[0;32m     24\u001b[0m )\n\u001b[1;32m---> 25\u001b[1;33m from pandas._typing import (\n\u001b[0m\u001b[0;32m     26\u001b[0m     \u001b[0mAnyArrayLike\u001b[0m\u001b[1;33m,\u001b[0m\u001b[1;33m\u001b[0m\u001b[1;33m\u001b[0m\u001b[0m\n\u001b[0;32m     27\u001b[0m     \u001b[0mArrayLike\u001b[0m\u001b[1;33m,\u001b[0m\u001b[1;33m\u001b[0m\u001b[1;33m\u001b[0m\u001b[0m\n",
      "\u001b[1;31mImportError\u001b[0m: cannot import name 'AxisInt' from 'pandas._typing' (C:\\ProgramData\\Anaconda3\\lib\\site-packages\\pandas\\_typing.py)"
     ]
    }
   ],
   "source": [
    "# Importing the necessary libraries\n",
    "import json\n",
    "import pandas as pd\n",
    "import numpy as np\n",
    "import matplotlib.pyplot as plt\n",
    "import seaborn as sns\n",
    "from scipy import stats\n",
    "from scipy.stats import chi2_contingency\n",
    "from sklearn.preprocessing import StandardScaler, LabelEncoder\n",
    "from sklearn.impute import SimpleImputer\n",
    "from sklearn.decomposition import PCA\n",
    "from sklearn.cluster import KMeans\n",
    "from sklearn.feature_selection import SelectKBest\n",
    "from sklearn.feature_selection import chi2\n",
    "from sklearn.feature_extraction.text import CountVectorizer\n",
    "from sklearn.feature_extraction.text import TfidfVectorizer\n",
    "from sklearn.preprocessing import OneHotEncoder\n",
    "\n",
    "import re\n",
    "import string\n",
    "from nltk.corpus import stopwords\n",
    "from nltk.stem import PorterStemmer\n",
    "import nltk\n",
    "nltk.download('stopwords')\n",
    "\n",
    "nltk.download('punkt')\n",
    "\n",
    "import gensim\n",
    "\n",
    "from sklearn.model_selection import train_test_split\n",
    "from sklearn.ensemble import RandomForestClassifier\n",
    "import xgboost as xgb\n",
    "from sklearn.neural_network import MLPClassifier\n",
    "from sklearn.svm import SVC\n",
    "from sklearn.naive_bayes import MultinomialNB\n",
    "\n",
    "from sklearn.metrics import classification_report\n",
    "from sklearn.metrics import confusion_matrix\n",
    "\n",
    "\n",
    "from sklearn.metrics import confusion_matrix, accuracy_score, recall_score, f1_score, precision_score, roc_curve, auc\n",
    "from sklearn.model_selection import GridSearchCV\n",
    "from sklearn.model_selection import RandomizedSearchCV\n",
    "\n",
    "import lime\n",
    "import ast\n",
    "\n",
    "import pickle\n",
    "import warnings\n",
    "warnings.filterwarnings('ignore')\n",
    "\n",
    "#pd.set_option('display.max_columns', None)"
   ]
  },
  {
   "cell_type": "code",
   "execution_count": null,
   "metadata": {
    "id": "QiQnGxURomS1"
   },
   "outputs": [],
   "source": [
    "# pip install emoji"
   ]
  },
  {
   "cell_type": "code",
   "execution_count": null,
   "metadata": {
    "id": "mz45dQyfootg"
   },
   "outputs": [],
   "source": [
    "#pip install wordsegment"
   ]
  },
  {
   "cell_type": "code",
   "execution_count": null,
   "metadata": {
    "id": "Av_OfsfYoqSk"
   },
   "outputs": [],
   "source": [
    "#pip install contractions"
   ]
  },
  {
   "cell_type": "code",
   "execution_count": null,
   "metadata": {
    "id": "kMn467f7n2dc"
   },
   "outputs": [],
   "source": [
    "# # Load the data\n",
    "# df_chunks = []\n",
    "# for chunk in pd.read_csv('/content/extracted_data/combined_data.csv', chunksize=100000):\n",
    "#     df_chunks.append(chunk)\n",
    "# df = pd.concat(df_chunks, ignore_index=True)\n",
    "# print(\"Shape of Dataframe:\", df.shape)"
   ]
  },
  {
   "cell_type": "code",
   "execution_count": null,
   "metadata": {
    "colab": {
     "base_uri": "https://localhost:8080/",
     "height": 573
    },
    "id": "KpmgCqGFo6Wg",
    "outputId": "46abf9d0-706e-4f3d-ddc7-385cecd08893"
   },
   "outputs": [],
   "source": [
    "\n",
    "# Loading the Yelp business dataset JSON file\n",
    "\n",
    "file_path = 'E:\\\\Assignments\\\\ML\\\\AISC2000_GroupTrees_ASMT3\\\\yelp_dataset\\\\yelp_academic_dataset_business.json'\n",
    "with open(file_path, 'r', encoding='utf-8') as file:\n",
    "    business_data = [json.loads(line) for line in file]\n",
    "\n",
    "\n",
    "business_df = pd.DataFrame(business_data)\n",
    "\n",
    "\n",
    "business_df.head()\n"
   ]
  },
  {
   "cell_type": "code",
   "execution_count": null,
   "metadata": {
    "colab": {
     "base_uri": "https://localhost:8080/"
    },
    "id": "3mpZsJAKpMfF",
    "outputId": "4283c279-ff2a-42a8-f838-7684b7c8a6fa"
   },
   "outputs": [],
   "source": [
    "business_df.shape"
   ]
  },
  {
   "cell_type": "code",
   "execution_count": null,
   "metadata": {
    "colab": {
     "base_uri": "https://localhost:8080/"
    },
    "id": "V2ghTD4tqkQw",
    "outputId": "f8cde030-3073-4013-b7d3-d07d901f9e35"
   },
   "outputs": [],
   "source": [
    "business_df.info()"
   ]
  },
  {
   "cell_type": "code",
   "execution_count": null,
   "metadata": {
    "colab": {
     "base_uri": "https://localhost:8080/",
     "height": 711
    },
    "id": "X6MMFvT0qszT",
    "outputId": "9c37e3dc-2a0d-4dbd-90be-7efa9564504b"
   },
   "outputs": [],
   "source": [
    "business_df['attributes'].head(20)"
   ]
  },
  {
   "cell_type": "code",
   "execution_count": null,
   "metadata": {
    "id": "uujPSihWuwsN"
   },
   "outputs": [],
   "source": []
  },
  {
   "cell_type": "code",
   "execution_count": null,
   "metadata": {
    "colab": {
     "base_uri": "https://localhost:8080/",
     "height": 330
    },
    "id": "EG3cl26muHM9",
    "outputId": "8ed3be5f-60a4-4e5e-864b-674fabd8bad2"
   },
   "outputs": [],
   "source": [
    "attributes_df = pd.json_normalize(business_df['attributes'])\n",
    "attributes_df.head()"
   ]
  },
  {
   "cell_type": "code",
   "execution_count": null,
   "metadata": {
    "colab": {
     "base_uri": "https://localhost:8080/"
    },
    "id": "tmWL76iXuMl6",
    "outputId": "a64e8a20-f6a5-4fe2-fad0-9120484464ab"
   },
   "outputs": [],
   "source": [
    "attributes_df.info()"
   ]
  },
  {
   "cell_type": "code",
   "execution_count": null,
   "metadata": {
    "id": "2rsm6mdLuSw6"
   },
   "outputs": [],
   "source": [
    "# replacing nan values with empty dictionary\n",
    "attributes_df['BusinessParking'] = attributes_df['BusinessParking'].apply(lambda x: {} if pd.isna(x) else x)\n",
    "\n",
    "\n",
    "def convert_to_dict(value):\n",
    "    if isinstance(value, dict):\n",
    "        return value\n",
    "    elif isinstance(value, str):\n",
    "        try:\n",
    "\n",
    "            return ast.literal_eval(value)\n",
    "        except (ValueError, SyntaxError):\n",
    "\n",
    "            return {}\n",
    "    else:\n",
    "\n",
    "        return {}\n",
    "\n",
    "\n",
    "attributes_df['BusinessParking'] = attributes_df['BusinessParking'].apply(convert_to_dict)\n",
    "\n",
    "\n"
   ]
  },
  {
   "cell_type": "code",
   "execution_count": null,
   "metadata": {
    "colab": {
     "base_uri": "https://localhost:8080/",
     "height": 206
    },
    "id": "TwTbwO4pwnNw",
    "outputId": "24f9bf8a-9037-446b-8c11-25fb3661bee8"
   },
   "outputs": [],
   "source": [
    "parking_df = pd.json_normalize(attributes_df['BusinessParking'])\n",
    "\n",
    "\n",
    "\n",
    "parking_df.columns = [f'BusinessParking_{col}' for col in parking_df.columns]\n",
    "\n",
    "parking_df.head()"
   ]
  },
  {
   "cell_type": "code",
   "execution_count": null,
   "metadata": {
    "id": "XBJJ4zfswU4A"
   },
   "outputs": [],
   "source": [
    "attributes_df = pd.concat([attributes_df.drop(columns=['BusinessParking']), parking_df], axis=1)\n",
    "\n"
   ]
  },
  {
   "cell_type": "code",
   "execution_count": null,
   "metadata": {
    "colab": {
     "base_uri": "https://localhost:8080/",
     "height": 226
    },
    "id": "mwu-VuqsxwZw",
    "outputId": "291bc219-2cc8-41ab-aa32-68d7c5611e4f"
   },
   "outputs": [],
   "source": [
    "attributes_df.head()"
   ]
  },
  {
   "cell_type": "code",
   "execution_count": null,
   "metadata": {
    "colab": {
     "base_uri": "https://localhost:8080/"
    },
    "id": "_JTqt0R8xyio",
    "outputId": "ab4378bc-de31-4439-e679-30590aa6c8bb"
   },
   "outputs": [],
   "source": [
    "attributes_df.info()"
   ]
  },
  {
   "cell_type": "code",
   "execution_count": null,
   "metadata": {
    "colab": {
     "base_uri": "https://localhost:8080/",
     "height": 573
    },
    "id": "L2euKfpY0BmD",
    "outputId": "ad75c896-1dac-4d31-a93d-b10fdd658678"
   },
   "outputs": [],
   "source": [
    "merged_df = pd.concat([business_df, attributes_df], axis=1)\n",
    "merged_df.head()\n"
   ]
  },
  {
   "cell_type": "code",
   "execution_count": null,
   "metadata": {
    "colab": {
     "base_uri": "https://localhost:8080/"
    },
    "id": "0lP0J65G4QFh",
    "outputId": "c7696630-1a1d-4679-ca07-f136fbf8facb"
   },
   "outputs": [],
   "source": [
    "merged_df.info()"
   ]
  },
  {
   "cell_type": "code",
   "execution_count": null,
   "metadata": {
    "colab": {
     "base_uri": "https://localhost:8080/",
     "height": 573
    },
    "id": "9M7EQhyi4U3j",
    "outputId": "1486ecb2-2eed-41e7-f1a4-495769e0607b"
   },
   "outputs": [],
   "source": [
    "parking_cols = ['BikeParking','BusinessParking_garage', 'BusinessParking_street', 'BusinessParking_validated',\n",
    "                'BusinessParking_lot', 'BusinessParking_valet']\n",
    "\n",
    "merged_df['has_parking'] = merged_df[parking_cols].any(axis=1)\n",
    "\n",
    "merged_df.head()"
   ]
  },
  {
   "cell_type": "markdown",
   "metadata": {
    "id": "qVdgOLBY865c"
   },
   "source": [
    "Business Details:\n",
    "\n",
    "City: Some cities may have more businesses with parking than others.\n",
    "State: Similar to city, state laws and geography might influence parking availability.\n",
    "Postal Code: This could capture some regional variance.\n",
    "Stars (Rating): Higher-rated businesses may offer parking to improve customer experience.\n",
    "Review Count: More popular businesses might be more likely to provide parking due to higher customer volume.\n",
    "Is Open (Business Status): Businesses that are currently open may be more likely to maintain parking areas.\n",
    "Attributes from Exploded Columns:\n",
    "\n",
    "ByAppointmentOnly: Businesses that operate by appointment only may not need parking.\n",
    "BusinessAcceptsCreditCards: This could be an indicator of modernized services, which might correlate with parking availability.\n",
    "RestaurantsPriceRange2: Higher-priced restaurants might offer parking as part of their customer experience.\n",
    "RestaurantsTakeOut: Takeout-focused businesses may or may not need parking.\n",
    "WiFi: Businesses offering WiFi might cater to customers who stay longer and thus provide parking.\n",
    "WheelchairAccessible: Parking facilities may be more common in accessible businesses.\n",
    "OutdoorSeating: This could be a proxy for outdoor space, which may correlate with available parking.\n",
    "RestaurantsGoodForGroups: Businesses catering to groups might have parking to accommodate larger parties.\n",
    "DriveThru: Drive-thru services may suggest availability of parking or space around the business.\n",
    "NoiseLevel: Quieter or less crowded businesses might have different parking needs.\n",
    "GoodForMeal: Attributes related to meals (breakfast, lunch, etc.) might correlate with the need for parking.\n",
    "Other Parking-Related Features:\n",
    "\n",
    "BusinessAcceptsBitcoin, Smoking, GoodForDancing, Music: These might be indicators of customer experience that could indirectly influence parking availability."
   ]
  },
  {
   "cell_type": "code",
   "execution_count": null,
   "metadata": {
    "colab": {
     "base_uri": "https://localhost:8080/",
     "height": 330
    },
    "id": "FMyRGdTJ5cSG",
    "outputId": "4eb83a61-da4c-44cc-d3b0-da5b39163265"
   },
   "outputs": [],
   "source": [
    "# Defining feature columns for the model\n",
    "final_columns = [\n",
    "    'name','city', 'state', 'stars', 'is_open','latitude','longitude',\n",
    "    'ByAppointmentOnly', 'BusinessAcceptsCreditCards', 'BikeParking',\n",
    "    'RestaurantsPriceRange2', 'RestaurantsTakeOut', 'WiFi',\n",
    "    'WheelchairAccessible', 'OutdoorSeating', 'RestaurantsGoodForGroups',\n",
    "    'DriveThru', 'NoiseLevel', 'GoodForMeal','Alcohol', 'BusinessParking_garage', 'BusinessParking_street', 'BusinessParking_validated',\n",
    "                'BusinessParking_lot', 'BusinessParking_valet', 'has_parking'\n",
    "]\n",
    "\n",
    "EDA_dataset=merged_df[final_columns]\n",
    "EDA_dataset.head()"
   ]
  },
  {
   "cell_type": "code",
   "execution_count": null,
   "metadata": {
    "id": "VX8ZcQjtcJ-6"
   },
   "outputs": [],
   "source": [
    "# Saving dataset for EDA\n",
    "EDA_dataset.to_csv('EDA_dataset.csv', index=False)"
   ]
  },
  {
   "cell_type": "code",
   "execution_count": null,
   "metadata": {
    "colab": {
     "base_uri": "https://localhost:8080/",
     "height": 330
    },
    "id": "-C50opJ6cRqb",
    "outputId": "298ba264-6384-466c-8a19-ccaf86b1ce1d"
   },
   "outputs": [],
   "source": [
    "# give your dataset path\n",
    "EDA_dataset=pd.read_csv('EDA_dataset.csv')\n",
    "EDA_dataset.head()"
   ]
  },
  {
   "cell_type": "markdown",
   "metadata": {
    "id": "FfFzigZyckFk"
   },
   "source": [
    "**Data cleaning, preprocessing and feature engineering for Model**"
   ]
  },
  {
   "cell_type": "code",
   "execution_count": null,
   "metadata": {
    "colab": {
     "base_uri": "https://localhost:8080/"
    },
    "id": "LWK3dHkaF-js",
    "outputId": "8e067e72-8091-4bdc-9817-36b784e10cda"
   },
   "outputs": [],
   "source": [
    "EDA_dataset.info()"
   ]
  },
  {
   "cell_type": "code",
   "execution_count": null,
   "metadata": {
    "colab": {
     "base_uri": "https://localhost:8080/"
    },
    "id": "cUEpQfxyDHjt",
    "outputId": "e40fe7bd-38c6-4789-a973-5b75bf0da70e"
   },
   "outputs": [],
   "source": [
    "# Value_counts\n",
    "for col in EDA_dataset.columns:\n",
    "    print(f\"Value counts for {col}:\")\n",
    "    print(EDA_dataset[col].value_counts(dropna=False))\n",
    "    print(\"\\n\")\n"
   ]
  },
  {
   "cell_type": "code",
   "execution_count": null,
   "metadata": {
    "colab": {
     "base_uri": "https://localhost:8080/",
     "height": 899
    },
    "id": "3zh_9Q6QAU2i",
    "outputId": "89e3006c-f147-41b2-8d33-1519987299a2"
   },
   "outputs": [],
   "source": [
    "# percentage of missing values\n",
    "missing_percentage = (EDA_dataset.isnull().sum() / len(EDA_dataset)) * 100\n",
    "missing_percentage\n"
   ]
  },
  {
   "cell_type": "code",
   "execution_count": null,
   "metadata": {
    "id": "vm8knkZeAiBM"
   },
   "outputs": [],
   "source": [
    "# Imputing missing values\n",
    "EDA_dataset['ByAppointmentOnly'].fillna(False, inplace=True)\n",
    "\n",
    "# Dropping unnecessary columns\n",
    "EDA_dataset.drop(columns=['BusinessAcceptsCreditCards', 'OutdoorSeating', 'DriveThru',\n",
    "                          'NoiseLevel', 'GoodForMeal', 'Alcohol'], inplace=True)\n",
    "\n",
    "# Filling missing values with False\n",
    "EDA_dataset['BikeParking'].fillna(False, inplace=True)\n",
    "EDA_dataset['RestaurantsPriceRange2'].fillna(EDA_dataset['RestaurantsPriceRange2'].mode()[0], inplace=True)\n",
    "EDA_dataset['RestaurantsTakeOut'].fillna(False, inplace=True)\n",
    "EDA_dataset['WiFi'].fillna('no', inplace=True)\n",
    "EDA_dataset['WheelchairAccessible'].fillna(False, inplace=True)\n",
    "EDA_dataset['RestaurantsGoodForGroups'].fillna(False, inplace=True)\n",
    "\n",
    "# I\n",
    "EDA_dataset.loc[EDA_dataset['has_parking'] == False, ['BusinessParking_garage',\n",
    "                                                       'BusinessParking_street',\n",
    "                                                       'BusinessParking_validated',\n",
    "                                                       'BusinessParking_lot',\n",
    "                                                       'BusinessParking_valet',\n",
    "                                                       'BikeParking']] = False\n",
    "\n",
    "for col in ['BusinessParking_garage', 'BusinessParking_street',\n",
    "            'BusinessParking_validated', 'BusinessParking_lot',\n",
    "            'BusinessParking_valet', 'BikeParking']:\n",
    "    EDA_dataset.loc[EDA_dataset['has_parking'] == True, col] = EDA_dataset.loc[EDA_dataset['has_parking'] == True, col].fillna(True)\n"
   ]
  },
  {
   "cell_type": "code",
   "execution_count": null,
   "metadata": {
    "colab": {
     "base_uri": "https://localhost:8080/",
     "height": 711
    },
    "id": "O0LTiojtT9VE",
    "outputId": "bbed6ed2-9645-4d7b-c1d3-8b1c7b736909"
   },
   "outputs": [],
   "source": [
    "# percentage of missing values\n",
    "missing_percentage = (EDA_dataset.isnull().sum() / len(EDA_dataset)) * 100\n",
    "missing_percentage\n"
   ]
  },
  {
   "cell_type": "code",
   "execution_count": null,
   "metadata": {
    "colab": {
     "base_uri": "https://localhost:8080/",
     "height": 330
    },
    "id": "_kbHAPST_kCv",
    "outputId": "4c575d86-3d5a-4167-d354-85164e4ff058"
   },
   "outputs": [],
   "source": [
    "\n",
    "# Target variable creation\n",
    "def create_parking_status(row):\n",
    "    if row['has_parking'] == False:\n",
    "        return 0  # No parking\n",
    "    elif row['has_parking'] == True and row['BusinessParking_validated'] == False:\n",
    "        return 1  # Has parking but not validated\n",
    "    elif row['has_parking'] == True and row['BusinessParking_validated'] == True:\n",
    "        return 2  # Has parking and validated\n",
    "\n",
    "\n",
    "EDA_dataset['parking_status'] = EDA_dataset.apply(create_parking_status, axis=1)\n",
    "\n",
    "EDA_dataset.head()\n"
   ]
  },
  {
   "cell_type": "code",
   "execution_count": null,
   "metadata": {
    "colab": {
     "base_uri": "https://localhost:8080/"
    },
    "id": "WYMJnwbN_yVs",
    "outputId": "60d87cae-8525-48f5-f152-3576398887d7"
   },
   "outputs": [],
   "source": [
    "#\n",
    "for col in EDA_dataset.columns:\n",
    "    print(f\"Value counts for {col}:\")\n",
    "    print(EDA_dataset[col].value_counts(dropna=False))\n",
    "    print(\"\\n\")\n"
   ]
  },
  {
   "cell_type": "code",
   "execution_count": null,
   "metadata": {
    "colab": {
     "base_uri": "https://localhost:8080/"
    },
    "id": "dKQlyGYOU4CH",
    "outputId": "f19ecc13-4cec-4588-a64b-2ac466180989"
   },
   "outputs": [],
   "source": [
    "# Data fomatting in Wifi column\n",
    "\n",
    "\n",
    "EDA_dataset['WiFi'] = EDA_dataset['WiFi'].replace({\n",
    "    \"no\": \"no\",\n",
    "    \"u'no'\": \"no\",\n",
    "    \"'no'\": \"no\",\n",
    "    \"u'free'\": \"free\",\n",
    "    \"'free'\": \"free\",\n",
    "    \"paid\": \"paid\",\n",
    "    \"u'paid'\": \"paid\",\n",
    "    \"'paid'\": \"paid\",\n",
    "    'None': 'no'\n",
    "})\n",
    "\n",
    "\n",
    "EDA_dataset['WiFi'].fillna('no', inplace=True)\n",
    "\n",
    "\n",
    "\n",
    "\n",
    "\n",
    "\n",
    "print(EDA_dataset['WiFi'].value_counts())\n"
   ]
  },
  {
   "cell_type": "code",
   "execution_count": null,
   "metadata": {
    "colab": {
     "base_uri": "https://localhost:8080/"
    },
    "id": "2VN0cfTpVQJD",
    "outputId": "b0feccee-de5d-48fd-ffdb-877ccc581ad9"
   },
   "outputs": [],
   "source": [
    "EDA_dataset.info()"
   ]
  },
  {
   "cell_type": "markdown",
   "metadata": {
    "id": "emDxJakvg-aW"
   },
   "source": [
    "**Feature Engineering**\n",
    "\n",
    "Created new column city_encoded which is the frequency of cities"
   ]
  },
  {
   "cell_type": "code",
   "execution_count": null,
   "metadata": {
    "id": "PlhAFgUGaq1R"
   },
   "outputs": [],
   "source": [
    "\n",
    "# Frequency encoding for city\n",
    "city_counts = EDA_dataset['city'].value_counts()\n",
    "EDA_dataset['city_encoded'] = EDA_dataset['city'].map(city_counts)\n",
    "\n",
    "EDA_dataset.head()"
   ]
  },
  {
   "cell_type": "code",
   "execution_count": null,
   "metadata": {
    "colab": {
     "base_uri": "https://localhost:8080/",
     "height": 330
    },
    "id": "NwL875VAfovo",
    "outputId": "26ca528b-bacb-4e5e-f081-3bf7d3542b2b"
   },
   "outputs": [],
   "source": [
    "EDA_dataset.head()"
   ]
  },
  {
   "cell_type": "code",
   "execution_count": null,
   "metadata": {
    "id": "moUGBUlDep4h"
   },
   "outputs": [],
   "source": [
    "# REMOVING UNNECESSARY COLUMNS\n",
    "EDA_dataset.drop(columns=['city', 'state','name','BusinessParking_validated','has_parking'], inplace=True)"
   ]
  },
  {
   "cell_type": "code",
   "execution_count": null,
   "metadata": {
    "colab": {
     "base_uri": "https://localhost:8080/",
     "height": 226
    },
    "id": "jt4RFRs6hSnG",
    "outputId": "f81c72cf-8ee8-4583-d2dc-ec9940974c46"
   },
   "outputs": [],
   "source": [
    "EDA_dataset.head()"
   ]
  },
  {
   "cell_type": "code",
   "execution_count": null,
   "metadata": {
    "colab": {
     "base_uri": "https://localhost:8080/",
     "height": 226
    },
    "id": "XJq4_dbAhULt",
    "outputId": "201b4567-6cb3-4cba-994a-51d5d161cf25"
   },
   "outputs": [],
   "source": [
    "# categorical encoding\n",
    "bool_columns = ['ByAppointmentOnly', 'BikeParking',\n",
    "                'RestaurantsTakeOut', 'WheelchairAccessible',\n",
    "                'RestaurantsGoodForGroups',\n",
    "                'BusinessParking_garage', 'BusinessParking_street',\n",
    "                 'BusinessParking_lot',\n",
    "                'BusinessParking_valet']\n",
    "\n",
    "EDA_dataset[bool_columns] = EDA_dataset[bool_columns].astype(int)\n",
    "\n",
    "EDA_dataset.head()\n"
   ]
  },
  {
   "cell_type": "code",
   "execution_count": null,
   "metadata": {
    "colab": {
     "base_uri": "https://localhost:8080/",
     "height": 226
    },
    "id": "nljE32pijHHO",
    "outputId": "72947bb2-59d3-4ebc-87f7-ba6b0980970a"
   },
   "outputs": [],
   "source": [
    "# modifying wifi column\n",
    "\n",
    "EDA_dataset['WiFi'] = EDA_dataset['WiFi'].apply(lambda x: 0 if x == 'no' else 1)\n",
    "\n",
    "EDA_dataset.head()\n"
   ]
  },
  {
   "cell_type": "code",
   "execution_count": null,
   "metadata": {
    "id": "kvYtBXYvk_5c"
   },
   "outputs": [],
   "source": [
    "#Saving the dataset for modelling\n",
    "\n",
    "EDA_dataset.to_csv('Model_dataset.csv', index=False)\n",
    "\n"
   ]
  },
  {
   "cell_type": "code",
   "execution_count": null,
   "metadata": {
    "colab": {
     "base_uri": "https://localhost:8080/"
    },
    "id": "8fzIMaUym-6d",
    "outputId": "70d99f14-e899-4580-85c7-db3f0b1e2927"
   },
   "outputs": [],
   "source": [
    "model_df=pd.read_csv('Model_dataset.csv')\n",
    "model_df.info()"
   ]
  },
  {
   "cell_type": "code",
   "execution_count": null,
   "metadata": {
    "id": "CE4syf8oppiW"
   },
   "outputs": [],
   "source": []
  },
  {
   "cell_type": "markdown",
   "metadata": {
    "id": "JKpB7i1_m2Ai"
   },
   "source": [
    "Next steps:\n",
    "\n",
    "split the dataset and use standardization and train the model"
   ]
  },
  {
   "cell_type": "code",
   "execution_count": null,
   "metadata": {
    "colab": {
     "base_uri": "https://localhost:8080/",
     "height": 564
    },
    "id": "sEPURuDWrHhL",
    "outputId": "2bdcaa50-93f4-42d5-b509-13f3aeafa2cd"
   },
   "outputs": [],
   "source": [
    "\n",
    "\n",
    "# Scatter plot to check class separability\n",
    "plt.figure(figsize=(10, 6))\n",
    "palette = {0: 'red', 1: 'blue',2:'green'}\n",
    "sns.scatterplot(data=EDA_dataset, x='longitude', y='latitude', hue='parking_status',palette=palette,alpha=0.5)\n",
    "plt.title('Class Separability: Parking Status')\n",
    "plt.xlabel('Longitude')\n",
    "plt.ylabel('Latitude')\n",
    "plt.legend(title='Parking Status')\n",
    "plt.show()\n"
   ]
  },
  {
   "cell_type": "markdown",
   "metadata": {
    "id": "GhaSRmB3i9r5"
   },
   "source": [
    "***Train test split***"
   ]
  },
  {
   "cell_type": "code",
   "execution_count": null,
   "metadata": {
    "colab": {
     "base_uri": "https://localhost:8080/"
    },
    "id": "3bldSBh9j9fy",
    "outputId": "f13db1b3-b6fd-4286-a160-fc708accc196"
   },
   "outputs": [],
   "source": [
    "x = EDA_dataset.drop(columns=['parking_status'])\n",
    "y = EDA_dataset['parking_status']\n",
    "\n",
    "\n",
    "x_train, x_test, y_train, y_test = train_test_split(x, y, test_size=0.2,random_state=42,stratify=y)\n",
    "\n",
    "print(\"Shape of x_train:\", x_train.shape)\n",
    "print(\"Shape of x_test:\", x_test.shape)\n",
    "print(\"Shape of y_train:\", y_train.shape)\n",
    "print(\"Shape of y_test:\", y_test.shape)"
   ]
  },
  {
   "cell_type": "code",
   "execution_count": null,
   "metadata": {
    "colab": {
     "base_uri": "https://localhost:8080/",
     "height": 209
    },
    "id": "fYknCbhuq_IF",
    "outputId": "c3daeb9b-c91a-4871-cb42-85e198056825"
   },
   "outputs": [],
   "source": [
    "#Class imbalance\n",
    "y_train.value_counts()"
   ]
  },
  {
   "cell_type": "code",
   "execution_count": null,
   "metadata": {
    "colab": {
     "base_uri": "https://localhost:8080/"
    },
    "id": "1sCHXK9tqf2g",
    "outputId": "bfcad626-8a12-4cb5-dcaa-c887663600ab"
   },
   "outputs": [],
   "source": [
    "#smote\n",
    "\n",
    "from imblearn.over_sampling import SMOTE\n",
    "\n",
    "\n",
    "smote = SMOTE(random_state=42)\n",
    "\n",
    "\n",
    "x_train_smote, y_train_smote = smote.fit_resample(x_train, y_train)\n",
    "\n",
    "\n",
    "\n",
    "print(y_train_smote.value_counts())\n",
    "\n"
   ]
  },
  {
   "cell_type": "markdown",
   "metadata": {
    "id": "G9Q9d9NzzBSv"
   },
   "source": [
    "# standardization\n",
    "\n",
    "not needed for tree based models. But if you want to do ,please make sure to pass this in pipeline\n"
   ]
  },
  {
   "cell_type": "code",
   "execution_count": null,
   "metadata": {
    "colab": {
     "base_uri": "https://localhost:8080/",
     "height": 741
    },
    "id": "YAeXveQ6rFOA",
    "outputId": "31da1e33-da6c-41c2-e250-af02a731b10d"
   },
   "outputs": [],
   "source": [
    "# Feature importance using Random Forest\n",
    "\n",
    "rf_model = RandomForestClassifier(random_state=42)\n",
    "rf_model.fit(x_train_smote, y_train_smote)\n",
    "\n",
    "\n",
    "importances = rf_model.feature_importances_\n",
    "feature_importance = pd.Series(importances, index=x.columns).sort_values(ascending=False)\n",
    "\n",
    "\n",
    "plt.figure(figsize=(12, 6))\n",
    "feature_importance.plot(kind='bar')\n",
    "plt.title('Feature Importance from Random Forest')\n",
    "plt.xlabel('Features')\n",
    "plt.ylabel('Importance Score')\n",
    "plt.show()"
   ]
  },
  {
   "cell_type": "code",
   "execution_count": null,
   "metadata": {
    "id": "PexmreLYxCtm"
   },
   "outputs": [],
   "source": []
  },
  {
   "cell_type": "markdown",
   "metadata": {
    "id": "JUt_XJ9rxl9J"
   },
   "source": [
    "\n",
    "\n",
    "### summary\n",
    "\n",
    "1. **Data Cleaning**:\n",
    "   - Addressed missing values by filling with appropriate substitutes (eg `False` for boolean features, mode for categorical features).\n",
    "\n",
    "2. **Feature Engineering**:\n",
    "   - Converted boolean values to integers (0 and 1) for easier modeling.\n",
    "   - Used frequency encoding for city, replacing cities with their counts of occurrences.\n",
    "\n",
    "\n",
    "### Feature Explanation and Relation to parking_status\n",
    "\n",
    "1. **stars**:\n",
    "   - higher ratings may correlate with better amenities, including parking.\n",
    "\n",
    "2. **is_open**:\n",
    "   - Indicates whether the business is currently open, affecting customer flow and parking needs.\n",
    "\n",
    "3. **latitude and longitude**:\n",
    "   - Geographical features help identify location-related parking dynamics.\n",
    "\n",
    "4. **ByAppointmentOnly**:\n",
    "   - Appointment-only businesses may have fewer visitors at any time, reducing parking demand.\n",
    "\n",
    "5. **BikeParking**: self explnatory\n",
    "\n",
    "6. **RestaurantsPriceRange2**:\n",
    "   - Price range attracts different demographics, impacting expected customer volumes and parking needs.\n",
    "\n",
    "7. **RestaurantsTakeOut**:\n",
    "   - Takeout options may result in no parking requirements compared to dine-in services.\n",
    "\n",
    "8. **WiFi**:\n",
    "   - Availability can attract more customers who may stay longer, influencing parking duration.\n",
    "\n",
    "9. **WheelchairAccessible**:\n",
    "   - Accessibility features are important for certain segments, potentially affecting parking usage.\n",
    "\n",
    "10. **RestaurantsGoodForGroups**:\n",
    "    - Suitable for group gatherings, leading to larger customer volumes and increased parking demand.\n",
    "\n",
    "11. **BusinessParking_garage, BusinessParking_street, BusinessParking_lot, BusinessParking_valet**:\n",
    "    - Direct indicators of available parking types; critical for predicting parking availability.\n",
    "\n",
    "12. **city_encoded**:\n",
    "    - Represents city frequency,some cities may have more or fewer parking challenges based on urban factors.\n",
    "\n",
    "**Target Variable** - Parking Status\n",
    "\n",
    " values - 0 indicate no parking\n",
    "\n",
    " value - 1 indicate parking available but not validated\n",
    "\n",
    " value -2 indicates parking available and validated\n",
    "\n",
    "\n",
    "\n",
    "**Train test split**\n",
    "\n",
    "**SMOTE to handle imbalance in the data**\n",
    "\n",
    "**Feature Importance using Random Forest**\n",
    "\n",
    "**Will compare feature importance after implementation of Lime**\n"
   ]
  },
  {
   "cell_type": "markdown",
   "metadata": {},
   "source": [
    "#### Summary of outputs from feature importance:\n",
    "\n",
    "- **Parking options** (lot, garage, street) dominate the feature importance ranking, indicating that easy access to parking is a major factor in business performance or customer satisfaction.\n",
    "\n",
    "- **Geographical location** (longitude and latitude) also plays a significant role, suggesting that where a business is located can affect its success.\n",
    "\n",
    "- **Price range** is moderately important, meaning that while price matters, other factors like parking have a stronger influence.\n",
    "\n",
    "- Features like **WiFi** and **wheelchair accessibility**, while important from a customer service standpoint, contribute less to the model's predictive power."
   ]
  },
  {
   "cell_type": "markdown",
   "metadata": {},
   "source": [
    "### Data Visualisation for Feature Engineering"
   ]
  },
  {
   "cell_type": "code",
   "execution_count": null,
   "metadata": {},
   "outputs": [],
   "source": [
    "EDA_dataset.info()"
   ]
  },
  {
   "cell_type": "code",
   "execution_count": null,
   "metadata": {
    "scrolled": true
   },
   "outputs": [],
   "source": [
    "EDA_dataset.describe()"
   ]
  },
  {
   "cell_type": "markdown",
   "metadata": {},
   "source": [
    "#### Handling Categorical Variables"
   ]
  },
  {
   "cell_type": "code",
   "execution_count": null,
   "metadata": {},
   "outputs": [],
   "source": [
    "#Countplots: To visualize how binary features are distributed \n",
    "sns.countplot(x='is_open', data=EDA_dataset)\n",
    "plt.show()"
   ]
  },
  {
   "cell_type": "code",
   "execution_count": null,
   "metadata": {},
   "outputs": [],
   "source": [
    "sns.countplot(x='ByAppointmentOnly', data=EDA_dataset)\n",
    "plt.show()"
   ]
  },
  {
   "cell_type": "code",
   "execution_count": null,
   "metadata": {},
   "outputs": [],
   "source": [
    "#Bar Plots for Parking Features: To check how many businesses offer parking facilities\n",
    "sns.countplot(x='BusinessParking_garage', data=EDA_dataset)\n",
    "plt.show()"
   ]
  },
  {
   "cell_type": "code",
   "execution_count": null,
   "metadata": {},
   "outputs": [],
   "source": [
    "#Cross-tabulation: To compare the relationships between features\n",
    "pd.crosstab(EDA_dataset['ByAppointmentOnly'], EDA_dataset['stars']).plot(kind='bar', stacked=True)\n",
    "plt.show()"
   ]
  },
  {
   "cell_type": "markdown",
   "metadata": {},
   "source": [
    "#### Correlation for Numerical Variables"
   ]
  },
  {
   "cell_type": "code",
   "execution_count": null,
   "metadata": {},
   "outputs": [],
   "source": [
    "#Heatmap: To find correlations between numerical variables like stars, latitude, longitude and RestaurantsPriceRange2\n",
    "correlation_matrix = EDA_dataset[['stars', 'latitude', 'longitude', 'RestaurantsPriceRange2']].corr()\n",
    "sns.heatmap(correlation_matrix, annot=True)\n",
    "plt.show()"
   ]
  },
  {
   "cell_type": "markdown",
   "metadata": {},
   "source": [
    "#### Outlier Detection"
   ]
  },
  {
   "cell_type": "code",
   "execution_count": null,
   "metadata": {},
   "outputs": [],
   "source": [
    "#Boxplot: To detect outliers in numerical columns like stars or RestaurantsPriceRange2\n",
    "sns.boxplot(y='stars', data=EDA_dataset)\n",
    "plt.show()"
   ]
  },
  {
   "cell_type": "code",
   "execution_count": null,
   "metadata": {},
   "outputs": [],
   "source": [
    "sns.boxplot(y='RestaurantsPriceRange2', data=EDA_dataset)\n",
    "plt.show()"
   ]
  },
  {
   "cell_type": "code",
   "execution_count": null,
   "metadata": {},
   "outputs": [],
   "source": [
    "sns.boxplot(x='BikeParking', y='stars', data=EDA_dataset)\n",
    "plt.show()"
   ]
  },
  {
   "cell_type": "code",
   "execution_count": null,
   "metadata": {},
   "outputs": [],
   "source": [
    "sns.scatterplot(x='longitude', y='latitude', hue='stars', data=EDA_dataset)\n",
    "plt.show()"
   ]
  },
  {
   "cell_type": "markdown",
   "metadata": {},
   "source": [
    "#### Distribution of Numerical Variables"
   ]
  },
  {
   "cell_type": "code",
   "execution_count": null,
   "metadata": {},
   "outputs": [],
   "source": [
    "#Histograms: To visualize the distribution of continuous variables like stars and RestaurantsPriceRange2\n",
    "EDA_dataset['stars'].hist()\n",
    "plt.show()"
   ]
  },
  {
   "cell_type": "code",
   "execution_count": null,
   "metadata": {},
   "outputs": [],
   "source": [
    "#Multivariate Analysis\n",
    "#Pairplots: To explore more advanced relationships between multiple variables\n",
    "sns.pairplot(EDA_dataset[['stars', 'RestaurantsPriceRange2', 'latitude', 'longitude']])\n",
    "plt.show()"
   ]
  },
  {
   "cell_type": "code",
   "execution_count": null,
   "metadata": {},
   "outputs": [],
   "source": [
    "#Dimensionality Reduction (PCA)\n",
    "\n",
    "# Standardizing the numerical features\n",
    "numerical_features = ['stars', 'RestaurantsPriceRange2', 'latitude', 'longitude']\n",
    "scaled_data = StandardScaler().fit_transform(EDA_dataset[numerical_features])\n",
    "\n",
    "pca = PCA(n_components=2)\n",
    "principal_components = pca.fit_transform(scaled_data)\n",
    "\n",
    "# Visualizing the two principal components\n",
    "plt.scatter(principal_components[:, 0], principal_components[:, 1], c=EDA_dataset['stars'], cmap='viridis')\n",
    "plt.colorbar()\n",
    "plt.show()"
   ]
  },
  {
   "cell_type": "code",
   "execution_count": null,
   "metadata": {},
   "outputs": [],
   "source": [
    "kmeans = KMeans(n_clusters=3)\n",
    "clusters = kmeans.fit_predict(scaled_data)\n",
    "EDA_dataset['cluster'] = clusters\n",
    "\n",
    "# Visualizing clusters\n",
    "plt.scatter(EDA_dataset['latitude'], EDA_dataset['longitude'], c=clusters, cmap='rainbow')\n",
    "plt.show()"
   ]
  },
  {
   "cell_type": "code",
   "execution_count": null,
   "metadata": {},
   "outputs": [],
   "source": [
    "sns.pointplot(x='RestaurantsPriceRange2', y='stars', data=EDA_dataset)\n",
    "plt.title('Stars vs. Price Range')\n",
    "plt.show()"
   ]
  },
  {
   "cell_type": "markdown",
   "metadata": {},
   "source": [
    "#### Key Insights from the Visualizations\n",
    "\n",
    "**1. is_open Countplot:**\n",
    "A majority of the businesses are open (1), while a smaller proportion is closed (0). This indicates that most data relates to active businesses, which may suggest that the dataset is skewed towards currently operating entities.\n",
    "\n",
    "**2. ByAppointmentOnly Countplot:**\n",
    "Most businesses do not operate by appointment only (0), with only a small subset requiring appointments (1). This suggests that walk-in services are more common than appointment-based operations.\n",
    "\n",
    "**3. BusinessParking_garage Countplot:**\n",
    "A significant majority of businesses do not have garage parking (0), while only a small portion offers this amenity (1). Garage parking is relatively rare.\n",
    "\n",
    "**4. Stacked Bar Chart (ByAppointmentOnly vs stars):**\n",
    "Businesses that do not require appointments (0) have a wider distribution of ratings, with a noticeable portion receiving 4.0 stars or more. Appointment-only businesses (1) tend to have fewer total reviews, and most of them seem to have a rating close to 4 stars. This suggests that appointment-only businesses might operate in a smaller niche but receive consistent ratings.\n",
    "\n",
    "**5. Correlation Heatmap:**\n",
    "There is a low correlation between stars and other numerical variables such as latitude, longitude, and RestaurantsPriceRange2. The correlation values are close to 0, meaning no strong linear relationships exist between these variables and the business ratings (stars).\n",
    "\n",
    "**6. Boxplot of stars:**\n",
    "The distribution of stars is relatively concentrated, with most businesses receiving ratings between 3.5 and 4.5 stars. There are no extreme outliers, indicating that most businesses are similarly rated.\n",
    "\n",
    "**7. Boxplot of RestaurantsPriceRange2:**\n",
    "The boxplot shows a few outliers in the higher price ranges. This suggests that while most restaurants fall into a moderate price range, there are some that are more expensive, and those are represented as outliers.\n",
    "\n",
    "**8. Boxplot of BikeParking vs stars:**\n",
    "Businesses with bike parking tend to have slightly higher ratings on average than those without bike parking. This suggests that bike parking might be a valued amenity for certain customers.\n",
    "\n",
    "**9. Scatterplot of latitude vs longitude with stars:**\n",
    "The plot shows geographic locations of businesses based on latitude and longitude, with the color representing their ratings (stars). There doesn’t appear to be a strong geographic pattern in terms of business ratings.\n",
    "\n",
    "**10. Histogram of stars:**\n",
    "Most businesses have ratings between 3.0 and 4.5 stars, with the highest concentration around 4.0 stars. Few businesses have very low ratings, indicating that overall ratings skew towards the positive side.\n",
    "\n",
    "**11. Pairplot:**\n",
    "The pairplot shows relationships between different variables (stars, RestaurantsPriceRange2, latitude, and longitude). No clear patterns or strong relationships are evident from this plot, which aligns with the low correlations observed earlier.\n",
    "\n",
    "**12. PCA Visualization:**\n",
    "The PCA projection shows no clear separation of businesses based on their ratings (stars). The ratings are spread across the principal components, suggesting that the first two components do not capture most of the variance related to business ratings.\n",
    "\n",
    "**13. Clustering Visualization (Latitude vs Longitude):**\n",
    "The scatter plot shows geographically clustered businesses based on their latitude and longitude. Each cluster represents businesses located near each other, indicating that spatial proximity plays a role in clustering. Some clusters are more concentrated, while others are more spread out.\n",
    "\n",
    "**14. Pointplot (RestaurantsPriceRange2 vs stars):**\n",
    "Businesses with price range 3 tend to have the highest average ratings (stars), while those in the lowest (1) and highest (4) price ranges tend to have slightly lower ratings. This suggests that mid-range restaurants receive the highest customer satisfaction."
   ]
  },
  {
   "cell_type": "markdown",
   "metadata": {},
   "source": [
    "#### Next Steps to enhance each model:\n",
    "\n",
    "**1. SVM:**\n",
    "\n",
    "Scale features like latitude, longitude, and RestaurantsPriceRange2.\n",
    "\n",
    "Handle outliers in price range.\n",
    "\n",
    "Try non-linear kernels (e.g., RBF) for better performance.\n",
    "\n",
    "\n",
    "**2. Random Forest:**\n",
    "\n",
    "Focus on important features (e.g., parking-related features).\n",
    "\n",
    "Perform hyperparameter tuning (e.g., n_estimators, max_depth).\n",
    "\n",
    "Address class imbalance in categorical features.\n",
    "\n",
    "\n",
    "**3. XGBoost:**\n",
    "\n",
    "Engineer feature interactions (e.g., between latitude and longitude).\n",
    "\n",
    "Tune hyperparameters like learning_rate and max_depth.\n",
    "\n",
    "Adjust class imbalance using scale_pos_weight.\n",
    "\n",
    "**4. Hidden Layer ANN:**\n",
    "\n",
    "Normalize input features.\n",
    "\n",
    "Experiment with different activation functions.\n",
    "\n",
    "Tune the number of neurons and layers.\n",
    "\n",
    "**5. Multilayer ANN:**\n",
    "\n",
    "Scale input features.\n",
    "\n",
    "Use dropout regularization to prevent overfitting.\n",
    "\n",
    "Optimize layer depth and learning rate.\n",
    "\n",
    "**6. Naive Bayes:**\n",
    "\n",
    "Use Gaussian Naive Bayes for continuous features.\n",
    "\n",
    "Ensure feature independence assumptions or reduce feature correlation.\n",
    "\n",
    "Binarize categorical features."
   ]
  }
 ],
 "metadata": {
  "accelerator": "TPU",
  "colab": {
   "gpuType": "V28",
   "provenance": []
  },
  "kernelspec": {
   "display_name": "Python 3 (ipykernel)",
   "language": "python",
   "name": "python3"
  },
  "language_info": {
   "codemirror_mode": {
    "name": "ipython",
    "version": 3
   },
   "file_extension": ".py",
   "mimetype": "text/x-python",
   "name": "python",
   "nbconvert_exporter": "python",
   "pygments_lexer": "ipython3",
   "version": "3.9.13"
  }
 },
 "nbformat": 4,
 "nbformat_minor": 1
}
